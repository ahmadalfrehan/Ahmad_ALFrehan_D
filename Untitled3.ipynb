{
  "nbformat": 4,
  "nbformat_minor": 0,
  "metadata": {
    "colab": {
      "provenance": [],
      "authorship_tag": "ABX9TyN6N42oF/EhM1wQOUxNSO8G",
      "include_colab_link": true
    },
    "kernelspec": {
      "name": "python3",
      "display_name": "Python 3"
    },
    "language_info": {
      "name": "python"
    }
  },
  "cells": [
    {
      "cell_type": "markdown",
      "metadata": {
        "id": "view-in-github",
        "colab_type": "text"
      },
      "source": [
        "<a href=\"https://colab.research.google.com/github/ahmedalfrehan/Ahmad_ALFrehan_D/blob/master/Untitled3.ipynb\" target=\"_parent\"><img src=\"https://colab.research.google.com/assets/colab-badge.svg\" alt=\"Open In Colab\"/></a>"
      ]
    },
    {
      "cell_type": "code",
      "execution_count": 16,
      "metadata": {
        "id": "zSzQFfMlA221"
      },
      "outputs": [],
      "source": [
        "import pandas as pd \n",
        "from sklearn.model_selection import train_test_split\n",
        "from sklearn.feature_extraction.text import CountVectorizer\n",
        "from sklearn import svm "
      ]
    },
    {
      "cell_type": "code",
      "source": [
        "spam = pd.read_csv('sample_data/spam.csv')"
      ],
      "metadata": {
        "id": "RFzbDo5gA_49"
      },
      "execution_count": 27,
      "outputs": []
    },
    {
      "cell_type": "code",
      "source": [
        "z = spam['v2']\n",
        "y = spam[\"v1\"]\n",
        "z_train,z_test,y_train,y_test = train_test_split(z,y,test_size = 0.2)"
      ],
      "metadata": {
        "id": "ErkatQ7jBL2Y"
      },
      "execution_count": 26,
      "outputs": []
    },
    {
      "cell_type": "code",
      "source": [
        "cv = CountVectorizer()\n",
        "features = cv.fit_transform(z_train)"
      ],
      "metadata": {
        "id": "qWvArlx-HXKH"
      },
      "execution_count": 28,
      "outputs": []
    },
    {
      "cell_type": "code",
      "source": [
        "model = svm.SVC()\n",
        "model.fit(features,y_train)"
      ],
      "metadata": {
        "colab": {
          "base_uri": "https://localhost:8080/"
        },
        "id": "Ewk5cfotMTlP",
        "outputId": "ed0e4586-f295-40eb-9f70-525353275af2"
      },
      "execution_count": 30,
      "outputs": [
        {
          "output_type": "execute_result",
          "data": {
            "text/plain": [
              "SVC()"
            ]
          },
          "metadata": {},
          "execution_count": 30
        }
      ]
    },
    {
      "cell_type": "code",
      "source": [
        "feature_test = cv.transform(z_test)\n",
        "print('Accuracy: {}'.format(model.score(feature_test,y_test)))"
      ],
      "metadata": {
        "colab": {
          "base_uri": "https://localhost:8080/"
        },
        "id": "QQ3yEjeAM8D4",
        "outputId": "fc74f620-20da-4064-a0aa-7f2cb7a2fb00"
      },
      "execution_count": 32,
      "outputs": [
        {
          "output_type": "stream",
          "name": "stdout",
          "text": [
            "Accuracy: 0.9748878923766816\n"
          ]
        }
      ]
    },
    {
      "cell_type": "code",
      "source": [],
      "metadata": {
        "id": "V5skJP8RNStm"
      },
      "execution_count": null,
      "outputs": []
    }
  ]
}